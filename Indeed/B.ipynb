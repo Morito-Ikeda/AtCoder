{
 "cells": [
  {
   "cell_type": "code",
   "execution_count": 1,
   "metadata": {
    "collapsed": false
   },
   "outputs": [
    {
     "name": "stdout",
     "output_type": "stream",
     "text": [
      "5 0\n",
      "3\n",
      "3 3\n",
      "2 3\n",
      "5 5\n"
     ]
    }
   ],
   "source": [
    "N, M = list(map(lambda x: int(x), input().split(' ')))\n",
    "\n",
    "disc_M = []\n",
    "for _ in range(M):\n",
    "    disc_M.append(list(map(lambda x: int(x), input().split(' '))))\n",
    "\n",
    "Q = int(input())\n",
    "\n",
    "disc_Q = []\n",
    "for _ in range(Q):\n",
    "    disc_Q.append(list(map(lambda x: int(x), input().split(' '))))"
   ]
  },
  {
   "cell_type": "code",
   "execution_count": 2,
   "metadata": {
    "collapsed": true
   },
   "outputs": [],
   "source": [
    "import numpy as np\n",
    "rooms = np.zeros(N).astype(int)"
   ]
  },
  {
   "cell_type": "code",
   "execution_count": 3,
   "metadata": {
    "collapsed": true
   },
   "outputs": [],
   "source": [
    "if M != 0:\n",
    "    for m in range(M):\n",
    "        a = disc_M[m][0]\n",
    "        b = disc_M[m][1]\n",
    "        rooms[a-1: b] = 1\n",
    "else:\n",
    "    pass"
   ]
  },
  {
   "cell_type": "code",
   "execution_count": 4,
   "metadata": {
    "collapsed": false
   },
   "outputs": [
    {
     "data": {
      "text/plain": [
       "array([0, 0, 0, 0, 0])"
      ]
     },
     "execution_count": 4,
     "metadata": {},
     "output_type": "execute_result"
    }
   ],
   "source": [
    "rooms"
   ]
  },
  {
   "cell_type": "code",
   "execution_count": 5,
   "metadata": {
    "collapsed": false
   },
   "outputs": [
    {
     "name": "stdout",
     "output_type": "stream",
     "text": [
      "OK\n",
      "NG\n",
      "OK\n"
     ]
    }
   ],
   "source": [
    "for q in range(Q):\n",
    "    c, d = disc_Q[q][0], disc_Q[q][1]\n",
    "    if 1 not in rooms[c-1: d]:\n",
    "        print('OK')\n",
    "        rooms[c-1: d] = 1\n",
    "    else:\n",
    "        print('NG')"
   ]
  },
  {
   "cell_type": "code",
   "execution_count": null,
   "metadata": {
    "collapsed": true
   },
   "outputs": [],
   "source": []
  }
 ],
 "metadata": {
  "kernelspec": {
   "display_name": "Python [default]",
   "language": "python",
   "name": "python3"
  },
  "language_info": {
   "codemirror_mode": {
    "name": "ipython",
    "version": 3
   },
   "file_extension": ".py",
   "mimetype": "text/x-python",
   "name": "python",
   "nbconvert_exporter": "python",
   "pygments_lexer": "ipython3",
   "version": "3.5.2"
  }
 },
 "nbformat": 4,
 "nbformat_minor": 1
}
